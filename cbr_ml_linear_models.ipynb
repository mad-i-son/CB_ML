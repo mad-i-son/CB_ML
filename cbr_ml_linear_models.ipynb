{
 "cells": [
  {
   "cell_type": "markdown",
   "metadata": {},
   "source": [
    "# Linear models"
   ]
  },
  {
   "cell_type": "markdown",
   "metadata": {},
   "source": [
    "### Outline <a name = 'outline'></a>\n",
    "* [Data generation](#data) \n",
    "* [Model training](#models) \n",
    "* [Cross Validation Quality Assessment](#cv) \n",
    "* [Grid Search For Optimal Parameters](#grid)\n",
    "* [Text Data Classification](#text)"
   ]
  },
  {
   "cell_type": "code",
   "execution_count": 1,
   "metadata": {},
   "outputs": [],
   "source": [
    "import matplotlib\n",
    "from matplotlib import pyplot as plt\n",
    "matplotlib.pyplot.style.use('ggplot')\n",
    "\n",
    "from sklearn import model_selection, datasets, linear_model, metrics\n",
    "from sklearn.feature_extraction.text import CountVectorizer, TfidfVectorizer\n",
    "\n",
    "import numpy as np"
   ]
  },
  {
   "cell_type": "code",
   "execution_count": 2,
   "metadata": {},
   "outputs": [],
   "source": [
    "%matplotlib inline"
   ]
  },
  {
   "cell_type": "markdown",
   "metadata": {},
   "source": [
    "[** Linear models:**](#linear) \n",
    "* RidgeClassifier\n",
    "* SGDClassifier\n",
    "* SGDRegressor\n",
    "* LinearRegression\n",
    "* LogisticRegression\n",
    "* Lasso\n",
    "* etc\n",
    "\n",
    "documentation: http://scikit-learn.org/stable/modules/classes.html#module-sklearn.linear_model\n",
    "\n",
    "examples: http://scikit-learn.org/stable/modules/linear_model.html#linear-model"
   ]
  },
  {
   "cell_type": "markdown",
   "metadata": {},
   "source": [
    "### Data Generation <a name = 'data'></a>"
   ]
  },
  {
   "cell_type": "code",
   "execution_count": 3,
   "metadata": {},
   "outputs": [],
   "source": [
    "blobs = datasets.make_blobs(centers = 2, cluster_std = 3.5, random_state=1)"
   ]
  },
  {
   "cell_type": "code",
   "execution_count": 8,
   "metadata": {
    "scrolled": true
   },
   "outputs": [
    {
     "data": {
      "text/plain": [
       "array([[  1.3693668 ,  -3.64889557],\n",
       "       [ -7.03615024,  -6.96165434],\n",
       "       [ -6.71395822,   2.64085935],\n",
       "       [ -0.85422833,   7.073529  ],\n",
       "       [ -1.14857253,  -4.82357027],\n",
       "       [ -7.19119889,  -3.790363  ],\n",
       "       [ -7.61746806,  -5.07265414],\n",
       "       [ -7.22288847,  -6.1357061 ],\n",
       "       [ -5.51172703,   8.41302285],\n",
       "       [  0.05025361,   4.14198887],\n",
       "       [-10.13314679,  -9.60855179],\n",
       "       [ -1.23318546,   8.35968355],\n",
       "       [-10.3842771 ,  -6.11411577],\n",
       "       [ -4.27461393,  10.33008097],\n",
       "       [ -2.33026345, -10.59061178],\n",
       "       [ -6.54553935,  -3.20597989],\n",
       "       [ -9.18398155,  -1.56441862],\n",
       "       [ -4.06466436,   1.44827012],\n",
       "       [ -2.86304777,   4.55907887],\n",
       "       [-13.82990396,  -3.36051003],\n",
       "       [ -8.02804867,  -3.11076872],\n",
       "       [-10.92947727,  -3.83919763],\n",
       "       [ -9.12691544,  -4.99159258],\n",
       "       [ -0.54292307,   3.53369355],\n",
       "       [ -2.97305723,   2.17093344],\n",
       "       [-11.08312121, -12.47528072],\n",
       "       [ -8.45293695,  -4.30389186],\n",
       "       [ -0.60896379,   3.17361541],\n",
       "       [  3.45781787,  -2.80400261],\n",
       "       [ -8.17569532,  -7.95854341],\n",
       "       [ -2.59716818,   6.262734  ],\n",
       "       [ -5.6583736 ,   3.18379034],\n",
       "       [-11.80754311,  -7.44294244],\n",
       "       [ -2.33098434,   1.29978849],\n",
       "       [ -4.30093487,  -2.77030761],\n",
       "       [-10.65070671,  -4.3094591 ],\n",
       "       [  2.53665267,   5.05453733],\n",
       "       [-14.80362312,  -2.85029068],\n",
       "       [-10.63093356,  -6.06707074],\n",
       "       [-10.47526911,  -4.3700382 ],\n",
       "       [ -9.01538473,  -4.20924301],\n",
       "       [ -8.77080158,  -8.54634049],\n",
       "       [ -2.78802012,   3.06229963],\n",
       "       [-14.30291598,  -2.02646731],\n",
       "       [ -0.96551089,   4.82302013],\n",
       "       [ -8.14458387,  -3.47139431],\n",
       "       [  1.49600762,   6.16522005],\n",
       "       [  5.98995402,  -0.48124731],\n",
       "       [ -5.57014613,   5.22694481],\n",
       "       [ -2.0896757 ,   1.13129685],\n",
       "       [ -2.43770841,   3.70383663],\n",
       "       [ -7.69103822,  -9.64938274],\n",
       "       [ -9.72533856,  -1.78901763],\n",
       "       [-11.40078617,  -1.06932888],\n",
       "       [ -1.23900357,   6.56670075],\n",
       "       [ -8.26447287,  -4.56480961],\n",
       "       [ -3.82956286,   6.84960199],\n",
       "       [ -5.53956675,   2.93150758],\n",
       "       [ -1.51181179,   6.44634312],\n",
       "       [  0.13569447,   3.36316495],\n",
       "       [ -1.00659504,   5.84167063],\n",
       "       [-12.26192091,  -0.79814443],\n",
       "       [ -8.23656566,   0.57294204],\n",
       "       [-10.08387185,  -6.66641421],\n",
       "       [-16.50064903,   0.37322556],\n",
       "       [ -5.33761261,  -4.95892607],\n",
       "       [ -4.2999527 ,   8.79152841],\n",
       "       [-14.45166815,  -2.85593153],\n",
       "       [ -2.26305863,   1.33398541],\n",
       "       [ -0.17732967,   4.67718011],\n",
       "       [ -8.58549176,  -1.87582372],\n",
       "       [ -7.40576492,  -7.29130065],\n",
       "       [ -7.88959502,  -2.48236083],\n",
       "       [  1.27688204,   7.66534715],\n",
       "       [  4.14974771,   7.00364443],\n",
       "       [ -0.55483759,  -2.67121439],\n",
       "       [ -6.95661095,  -1.32690781],\n",
       "       [ -9.84487103,  -4.7454484 ],\n",
       "       [ -3.50816104,   0.65109969],\n",
       "       [ -3.22450988,   8.69226684],\n",
       "       [  2.30114295,   9.72584873],\n",
       "       [-14.19515062,  -0.93163994],\n",
       "       [ -1.09943016,   7.47308109],\n",
       "       [ -3.33140702,  -0.0646501 ],\n",
       "       [ -4.08037254,   3.01785252],\n",
       "       [  2.30863314,   0.55687043],\n",
       "       [ -0.99135571,  11.75738285],\n",
       "       [  1.49343592,   2.01344236],\n",
       "       [ -2.73127395,   7.30440112],\n",
       "       [ -4.00892136,   4.36216377],\n",
       "       [ -5.93652751,  -2.66012404],\n",
       "       [ -1.48173276,   2.17700511],\n",
       "       [ -2.39068972,   6.45967104],\n",
       "       [ -4.00687791,   5.72796312],\n",
       "       [ -6.07275052,  -2.52219666],\n",
       "       [ -6.3618264 ,   3.70108022],\n",
       "       [ -9.93677957,  -7.8804141 ],\n",
       "       [ -0.66000427,   7.50448394],\n",
       "       [ -7.15938165,  -0.29780122],\n",
       "       [  4.44728127,   1.74226572]])"
      ]
     },
     "execution_count": 8,
     "metadata": {},
     "output_type": "execute_result"
    }
   ],
   "source": [
    "blobs[0]"
   ]
  },
  {
   "cell_type": "code",
   "execution_count": 11,
   "metadata": {},
   "outputs": [
    {
     "data": {
      "text/plain": [
       "<matplotlib.collections.PathCollection at 0x1a1aaa58d0>"
      ]
     },
     "execution_count": 11,
     "metadata": {},
     "output_type": "execute_result"
    },
    {
     "data": {
      "image/png": "[encoded data removed]",
      "text/plain": [
       "<Figure size 360x360 with 1 Axes>"
      ]
     },
     "metadata": {},
     "output_type": "display_data"
    }
   ],
   "source": [
    "plt.figure(figsize = (5, 5))\n",
    "\n",
    "plt.scatter(blobs[0][:,0], \n",
    "            blobs[0][:,1], \n",
    "            c = blobs[1], \n",
    "            cmap = matplotlib.colors.ListedColormap(['red', 'green']),\n",
    "            s = 100)"
   ]
  },
  {
   "cell_type": "markdown",
   "metadata": {},
   "source": [
    "[back to outline](#outline)"
   ]
  },
  {
   "cell_type": "markdown",
   "metadata": {},
   "source": [
    "### Model training <a name = 'models'></a>"
   ]
  },
  {
   "cell_type": "code",
   "execution_count": 12,
   "metadata": {},
   "outputs": [],
   "source": [
    "train_data, test_data, train_labels, test_labels = model_selection.train_test_split(\n",
    "    blobs[0], blobs[1], test_size = 0.3, random_state = 1)"
   ]
  },
  {
   "cell_type": "markdown",
   "metadata": {},
   "source": [
    "**Ridge regression**"
   ]
  },
  {
   "cell_type": "code",
   "execution_count": 13,
   "metadata": {},
   "outputs": [],
   "source": [
    "#classifier instance\n",
    "ridge_classifier = linear_model.RidgeClassifier(random_state = 1)"
   ]
  },
  {
   "cell_type": "code",
   "execution_count": 14,
   "metadata": {},
   "outputs": [
    {
     "data": {
      "text/plain": [
       "RidgeClassifier(alpha=1.0, class_weight=None, copy_X=True, fit_intercept=True,\n",
       "        max_iter=None, normalize=False, random_state=1, solver='auto',\n",
       "        tol=0.001)"
      ]
     },
     "execution_count": 14,
     "metadata": {},
     "output_type": "execute_result"
    }
   ],
   "source": [
    "ridge_classifier"
   ]
  },
  {
   "cell_type": "code",
   "execution_count": 16,
   "metadata": {},
   "outputs": [],
   "source": [
    "?ridge_classifier.fit"
   ]
  },
  {
   "cell_type": "code",
   "execution_count": 15,
   "metadata": {},
   "outputs": [
    {
     "data": {
      "text/plain": [
       "RidgeClassifier(alpha=1.0, class_weight=None, copy_X=True, fit_intercept=True,\n",
       "        max_iter=None, normalize=False, random_state=1, solver='auto',\n",
       "        tol=0.001)"
      ]
     },
     "execution_count": 15,
     "metadata": {},
     "output_type": "execute_result"
    }
   ],
   "source": [
    "#classifier training\n",
    "ridge_classifier.fit(train_data, train_labels)"
   ]
  },
  {
   "cell_type": "code",
   "execution_count": 59,
   "metadata": {},
   "outputs": [],
   "source": [
    "#predictions generation\n",
    "ridge_predictions = ridge_classifier.predict(test_data)"
   ]
  },
  {
   "cell_type": "code",
   "execution_count": 18,
   "metadata": {},
   "outputs": [
    {
     "name": "stdout",
     "output_type": "stream",
     "text": [
      "[0 0 0 1 0 0 0 0 0 1 0 1 0 1 1 1 0 0 0 1 1 0 0 1 1 1 1 0 0 1]\n"
     ]
    }
   ],
   "source": [
    "print(ridge_predictions)"
   ]
  },
  {
   "cell_type": "code",
   "execution_count": 19,
   "metadata": {},
   "outputs": [
    {
     "name": "stdout",
     "output_type": "stream",
     "text": [
      "[0 0 0 1 0 0 0 0 0 1 0 1 0 1 1 1 0 0 0 1 0 0 0 1 1 1 1 0 0 1]\n"
     ]
    }
   ],
   "source": [
    "print(test_labels)"
   ]
  },
  {
   "cell_type": "code",
   "execution_count": 22,
   "metadata": {},
   "outputs": [
    {
     "data": {
      "text/plain": [
       "0.9571428571428572"
      ]
     },
     "execution_count": 22,
     "metadata": {},
     "output_type": "execute_result"
    }
   ],
   "source": [
    "metrics.accuracy_score(test_labels, ridge_predictions)"
   ]
  },
  {
   "cell_type": "code",
   "execution_count": 23,
   "metadata": {},
   "outputs": [
    {
     "name": "stdout",
     "output_type": "stream",
     "text": [
      "[[-0.11164518 -0.0925014 ]]\n",
      "[-0.50073421]\n"
     ]
    }
   ],
   "source": [
    "#feature weights\n",
    "print(ridge_classifier.coef_)\n",
    "print(ridge_classifier.intercept_)"
   ]
  },
  {
   "cell_type": "code",
   "execution_count": 24,
   "metadata": {},
   "outputs": [],
   "source": [
    "#separating line\n",
    "k = round(-1*ridge_classifier.coef_[0][0]/ridge_classifier.coef_[0][1], 3)\n",
    "b = round(-1*ridge_classifier.intercept_[0]/ridge_classifier.coef_[0][1], 3)"
   ]
  },
  {
   "cell_type": "code",
   "execution_count": 25,
   "metadata": {},
   "outputs": [
    {
     "name": "stdout",
     "output_type": "stream",
     "text": [
      "y = -1.207x -5.413\n"
     ]
    }
   ],
   "source": [
    "if b >= 0:\n",
    "    print(f'y = {k}x + {b}')\n",
    "else:\n",
    "    print(f'y = {k}x {b}')"
   ]
  },
  {
   "cell_type": "code",
   "execution_count": 33,
   "metadata": {},
   "outputs": [
    {
     "data": {
      "text/plain": [
       "[<matplotlib.lines.Line2D at 0x1a2662cd68>]"
      ]
     },
     "execution_count": 33,
     "metadata": {},
     "output_type": "execute_result"
    },
    {
     "data": {
      "image/png": "[encoded data removed]",
      "text/plain": [
       "<Figure size 360x360 with 1 Axes>"
      ]
     },
     "metadata": {},
     "output_type": "display_data"
    }
   ],
   "source": [
    "plt.figure(figsize = (5, 5))\n",
    "\n",
    "plt.scatter(blobs[0][:,0], \n",
    "            blobs[0][:,1],\n",
    "            c = blobs[1], \n",
    "            cmap = matplotlib.colors.ListedColormap(['red', 'grey']),\n",
    "            s = 50)\n",
    "\n",
    "x = np.linspace(np.min(blobs[0][:,0]), np.max(blobs[0][:,0]), 20)\n",
    "y = k*x + b\n",
    "plt.plot(x, y, '-b')"
   ]
  },
  {
   "cell_type": "markdown",
   "metadata": {},
   "source": [
    "**Logistic regression**"
   ]
  },
  {
   "cell_type": "code",
   "execution_count": 34,
   "metadata": {},
   "outputs": [
    {
     "data": {
      "text/plain": [
       "LogisticRegression(C=1.0, class_weight=None, dual=False, fit_intercept=True,\n",
       "          intercept_scaling=1, max_iter=100, multi_class='ovr', n_jobs=1,\n",
       "          penalty='l2', random_state=0, solver='liblinear', tol=0.0001,\n",
       "          verbose=0, warm_start=False)"
      ]
     },
     "execution_count": 34,
     "metadata": {},
     "output_type": "execute_result"
    }
   ],
   "source": [
    "log_regressor = linear_model.LogisticRegression(random_state = 0)\n",
    "log_regressor.fit(train_data, train_labels)"
   ]
  },
  {
   "cell_type": "code",
   "execution_count": 35,
   "metadata": {},
   "outputs": [],
   "source": [
    "lr_predictions = log_regressor.predict(test_data)\n",
    "lr_proba_predictions = log_regressor.predict_proba(test_data)"
   ]
  },
  {
   "cell_type": "code",
   "execution_count": 36,
   "metadata": {},
   "outputs": [
    {
     "name": "stdout",
     "output_type": "stream",
     "text": [
      "[0 0 0 1 0 1 0 0 0 1 0 1 0 1 1 1 1 0 1 1 1 0 0 1 1 1 1 0 0 1]\n"
     ]
    }
   ],
   "source": [
    "print(lr_predictions)"
   ]
  },
  {
   "cell_type": "code",
   "execution_count": 37,
   "metadata": {
    "collapsed": true
   },
   "outputs": [
    {
     "name": "stdout",
     "output_type": "stream",
     "text": [
      "[[9.99964463e-01 3.55366566e-05]\n",
      " [6.59642915e-01 3.40357085e-01]\n",
      " [7.01850415e-01 2.98149585e-01]\n",
      " [4.73762142e-05 9.99952624e-01]\n",
      " [9.29085437e-01 7.09145630e-02]\n",
      " [4.01441241e-01 5.98558759e-01]\n",
      " [9.99279239e-01 7.20760967e-04]\n",
      " [9.97629335e-01 2.37066452e-03]\n",
      " [9.92246873e-01 7.75312694e-03]\n",
      " [3.08558342e-03 9.96914417e-01]\n",
      " [9.87109827e-01 1.28901728e-02]\n",
      " [8.29682548e-05 9.99917032e-01]\n",
      " [9.70073741e-01 2.99262589e-02]\n",
      " [8.71244984e-04 9.99128755e-01]\n",
      " [1.98341812e-05 9.99980166e-01]\n",
      " [3.57517290e-06 9.99996425e-01]\n",
      " [3.86966857e-01 6.13033143e-01]\n",
      " [9.87062765e-01 1.29372353e-02]\n",
      " [3.75421731e-01 6.24578269e-01]\n",
      " [3.01514496e-06 9.99996985e-01]\n",
      " [1.60068448e-01 8.39931552e-01]\n",
      " [9.99675824e-01 3.24175856e-04]\n",
      " [9.98353859e-01 1.64614060e-03]\n",
      " [1.38720505e-02 9.86127949e-01]\n",
      " [1.19762927e-05 9.99988024e-01]\n",
      " [7.53815726e-05 9.99924618e-01]\n",
      " [9.13128097e-03 9.90868719e-01]\n",
      " [9.70277465e-01 2.97225346e-02]\n",
      " [9.99238510e-01 7.61490100e-04]\n",
      " [2.30124217e-05 9.99976988e-01]]\n"
     ]
    }
   ],
   "source": [
    "print(lr_proba_predictions)"
   ]
  },
  {
   "cell_type": "code",
   "execution_count": 39,
   "metadata": {},
   "outputs": [],
   "source": [
    "#separating line\n",
    "k = round(-1*log_regressor.coef_[0][0]/log_regressor.coef_[0][1], 3)\n",
    "b = round(-1*log_regressor.intercept_[0]/log_regressor.coef_[0][1], 3)"
   ]
  },
  {
   "cell_type": "code",
   "execution_count": 40,
   "metadata": {},
   "outputs": [
    {
     "name": "stdout",
     "output_type": "stream",
     "text": [
      "y = -1.145x -2.62\n"
     ]
    }
   ],
   "source": [
    "if b >= 0:\n",
    "    print(f'y = {k}x + {b}')\n",
    "else:\n",
    "    print(f'y = {k}x {b}')"
   ]
  },
  {
   "cell_type": "code",
   "execution_count": 41,
   "metadata": {},
   "outputs": [
    {
     "data": {
      "text/plain": [
       "[<matplotlib.lines.Line2D at 0x1a26e3be48>]"
      ]
     },
     "execution_count": 41,
     "metadata": {},
     "output_type": "execute_result"
    },
    {
     "data": {
      "image/png": "[encoded data removed]",
      "text/plain": [
       "<Figure size 360x360 with 1 Axes>"
      ]
     },
     "metadata": {},
     "output_type": "display_data"
    }
   ],
   "source": [
    "plt.figure(figsize = (5, 5))\n",
    "\n",
    "plt.scatter(blobs[0][:,0], \n",
    "            blobs[0][:,1],\n",
    "            c = blobs[1], \n",
    "            cmap = matplotlib.colors.ListedColormap(['red', 'grey']),\n",
    "            s = 50)\n",
    "\n",
    "x = np.linspace(np.min(blobs[0][:,0]), np.max(blobs[0][:,1]), 20)\n",
    "y = k*x + b\n",
    "plt.plot(x, y, '-b')"
   ]
  },
  {
   "cell_type": "code",
   "execution_count": 42,
   "metadata": {},
   "outputs": [
    {
     "name": "stdout",
     "output_type": "stream",
     "text": [
      "0.8666666666666667\n"
     ]
    }
   ],
   "source": [
    "print(metrics.accuracy_score(test_labels, lr_predictions))"
   ]
  },
  {
   "cell_type": "code",
   "execution_count": null,
   "metadata": {},
   "outputs": [],
   "source": [
    "lr_proba_predictions[:,1]"
   ]
  },
  {
   "cell_type": "code",
   "execution_count": null,
   "metadata": {},
   "outputs": [],
   "source": [
    "print(metrics.roc_auc_score(test_labels, lr_proba_predictions[:,1]))"
   ]
  },
  {
   "cell_type": "markdown",
   "metadata": {},
   "source": [
    "[back to outline](#outline)"
   ]
  },
  {
   "cell_type": "markdown",
   "metadata": {},
   "source": [
    "### Cross Validation Quality Assessment <a name = 'cv'></a>"
   ]
  },
  {
   "cell_type": "markdown",
   "metadata": {},
   "source": [
    "**K-Fold**"
   ]
  },
  {
   "cell_type": "code",
   "execution_count": 45,
   "metadata": {},
   "outputs": [],
   "source": [
    "x = np.array([1,2,3,4,5,6,7,8,9,10])\n",
    "\n",
    "y = np.array([0,0,0,0,0,1,1,1,1,1])"
   ]
  },
  {
   "cell_type": "code",
   "execution_count": 49,
   "metadata": {},
   "outputs": [
    {
     "name": "stdout",
     "output_type": "stream",
     "text": [
      "train: [ 1  2  3  4  5  7  9 10] test: [6 8]\n",
      "train: [ 1  4  5  6  7  8  9 10] test: [2 3]\n",
      "train: [1 2 3 5 6 7 8 9] test: [ 4 10]\n",
      "train: [ 1  2  3  4  6  8  9 10] test: [5 7]\n",
      "train: [ 2  3  4  5  6  7  8 10] test: [1 9]\n"
     ]
    }
   ],
   "source": [
    "kf = model_selection.KFold(n_splits = 5, random_state = None, shuffle = True)\n",
    "\n",
    "for train_index, test_index in kf.split(x):\n",
    "    print(\"train:\", x[train_index], \"test:\", x[test_index])\n",
    "    #print(f'train target: {y[train_index]}, test target:{y[test_index]}')"
   ]
  },
  {
   "cell_type": "markdown",
   "metadata": {},
   "source": [
    "**Startified K-Fold**"
   ]
  },
  {
   "cell_type": "code",
   "execution_count": 52,
   "metadata": {},
   "outputs": [
    {
     "name": "stdout",
     "output_type": "stream",
     "text": [
      "train target: [0 0 0 1 1 1], test target:[0 0 1 1]\n",
      "train target: [0 0 0 1 1 1], test target:[0 0 1 1]\n",
      "train target: [0 0 0 0 1 1 1 1], test target:[0 1]\n"
     ]
    }
   ],
   "source": [
    "skf = model_selection.StratifiedKFold(n_splits = 3, random_state = 10, shuffle = False)\n",
    "\n",
    "for train_index, test_index in skf.split(x, y):\n",
    "    #print(\"train:\", x[train_index], \"test:\", x[test_index])\n",
    "    print(f'train target: {y[train_index]}, test target:{y[test_index]}')"
   ]
  },
  {
   "cell_type": "code",
   "execution_count": 53,
   "metadata": {},
   "outputs": [],
   "source": [
    "ridge_scoring = model_selection.cross_val_score(ridge_classifier, \n",
    "                                                train_data, \n",
    "                                                train_labels, \n",
    "                                                scoring = 'accuracy', \n",
    "                                                cv = 10)"
   ]
  },
  {
   "cell_type": "code",
   "execution_count": 54,
   "metadata": {},
   "outputs": [],
   "source": [
    "lr_scoring = model_selection.cross_val_score(log_regressor, \n",
    "                                             train_data, \n",
    "                                             train_labels, \n",
    "                                             scoring = metrics.make_scorer(metrics.accuracy_score,\n",
    "                                                                      greater_is_better = True), \n",
    "                                             cv = 10)"
   ]
  },
  {
   "cell_type": "code",
   "execution_count": 55,
   "metadata": {},
   "outputs": [
    {
     "data": {
      "text/plain": [
       "array([0.875     , 0.875     , 1.        , 0.85714286, 0.85714286,\n",
       "       1.        , 1.        , 1.        , 1.        , 1.        ])"
      ]
     },
     "execution_count": 55,
     "metadata": {},
     "output_type": "execute_result"
    }
   ],
   "source": [
    "ridge_scoring"
   ]
  },
  {
   "cell_type": "code",
   "execution_count": 56,
   "metadata": {},
   "outputs": [
    {
     "data": {
      "text/plain": [
       "array([1.        , 1.        , 1.        , 1.        , 1.        ,\n",
       "       1.        , 0.85714286, 1.        , 1.        , 0.83333333])"
      ]
     },
     "execution_count": 56,
     "metadata": {},
     "output_type": "execute_result"
    }
   ],
   "source": [
    "lr_scoring"
   ]
  },
  {
   "cell_type": "code",
   "execution_count": 57,
   "metadata": {},
   "outputs": [
    {
     "name": "stdout",
     "output_type": "stream",
     "text": [
      "Cross validation score\n",
      "Ridge regression accuracy score mean:0.946, std:0.066\n",
      "Log regression accuracy score mean:0.969, std:0.062\n"
     ]
    }
   ],
   "source": [
    "print('Cross validation score')\n",
    "print(f'Ridge regression accuracy score mean:{ridge_scoring.mean():.3f}, std:{ridge_scoring.std():.3f}')\n",
    "print(f'Log regression accuracy score mean:{lr_scoring.mean():.3f}, std:{lr_scoring.std():.3f}')"
   ]
  },
  {
   "cell_type": "code",
   "execution_count": 60,
   "metadata": {},
   "outputs": [
    {
     "name": "stdout",
     "output_type": "stream",
     "text": [
      "Hold-out test score\n",
      "Ridge regression accuracy score: 0.967\n",
      "Log regression accuracy score: 0.867\n"
     ]
    }
   ],
   "source": [
    "print('Hold-out test score')\n",
    "print(f'Ridge regression accuracy score: {metrics.accuracy_score(test_labels, ridge_predictions):.3f}')\n",
    "print(f'Log regression accuracy score: {metrics.accuracy_score(test_labels, lr_predictions):.3f}')"
   ]
  },
  {
   "cell_type": "markdown",
   "metadata": {},
   "source": [
    "[back to outline](#outline)"
   ]
  },
  {
   "cell_type": "markdown",
   "metadata": {},
   "source": [
    "### Grid Search For Optimal Parameters <a name = 'grid'></a>"
   ]
  },
  {
   "cell_type": "code",
   "execution_count": 61,
   "metadata": {},
   "outputs": [],
   "source": [
    "#model\n",
    "regressor = linear_model.LogisticRegression()"
   ]
  },
  {
   "cell_type": "code",
   "execution_count": 65,
   "metadata": {},
   "outputs": [],
   "source": [
    "?regressor"
   ]
  },
  {
   "cell_type": "code",
   "execution_count": 62,
   "metadata": {},
   "outputs": [
    {
     "data": {
      "text/plain": [
       "{'C': 1.0,\n",
       " 'class_weight': None,\n",
       " 'dual': False,\n",
       " 'fit_intercept': True,\n",
       " 'intercept_scaling': 1,\n",
       " 'max_iter': 100,\n",
       " 'multi_class': 'ovr',\n",
       " 'n_jobs': 1,\n",
       " 'penalty': 'l2',\n",
       " 'random_state': None,\n",
       " 'solver': 'liblinear',\n",
       " 'tol': 0.0001,\n",
       " 'verbose': 0,\n",
       " 'warm_start': False}"
      ]
     },
     "execution_count": 62,
     "metadata": {},
     "output_type": "execute_result"
    }
   ],
   "source": [
    "#parameters check \n",
    "regressor.get_params()"
   ]
  },
  {
   "cell_type": "code",
   "execution_count": 66,
   "metadata": {},
   "outputs": [],
   "source": [
    "#grid generation\n",
    "parameters_grid = {\n",
    "    'C' : [0.1, 0.5, 1., 2.],\n",
    "    'penalty' : ['l1', 'l2'],\n",
    "}"
   ]
  },
  {
   "cell_type": "code",
   "execution_count": 67,
   "metadata": {},
   "outputs": [],
   "source": [
    "grid_cv = model_selection.GridSearchCV(regressor, parameters_grid) "
   ]
  },
  {
   "cell_type": "code",
   "execution_count": 68,
   "metadata": {},
   "outputs": [
    {
     "name": "stdout",
     "output_type": "stream",
     "text": [
      "CPU times: user 69.1 ms, sys: 3.69 ms, total: 72.7 ms\n",
      "Wall time: 113 ms\n"
     ]
    },
    {
     "data": {
      "text/plain": [
       "GridSearchCV(cv=None, error_score='raise',\n",
       "       estimator=LogisticRegression(C=1.0, class_weight=None, dual=False, fit_intercept=True,\n",
       "          intercept_scaling=1, max_iter=100, multi_class='ovr', n_jobs=1,\n",
       "          penalty='l2', random_state=None, solver='liblinear', tol=0.0001,\n",
       "          verbose=0, warm_start=False),\n",
       "       fit_params=None, iid=True, n_jobs=1,\n",
       "       param_grid={'C': [0.1, 0.5, 1.0, 2.0], 'penalty': ['l1', 'l2']},\n",
       "       pre_dispatch='2*n_jobs', refit=True, return_train_score='warn',\n",
       "       scoring=None, verbose=0)"
      ]
     },
     "execution_count": 68,
     "metadata": {},
     "output_type": "execute_result"
    }
   ],
   "source": [
    "%%time\n",
    "grid_cv.fit(train_data, train_labels)"
   ]
  },
  {
   "cell_type": "code",
   "execution_count": 69,
   "metadata": {},
   "outputs": [
    {
     "data": {
      "text/plain": [
       "0.9857142857142858"
      ]
     },
     "execution_count": 69,
     "metadata": {},
     "output_type": "execute_result"
    }
   ],
   "source": [
    "grid_cv.best_score_"
   ]
  },
  {
   "cell_type": "code",
   "execution_count": 70,
   "metadata": {},
   "outputs": [
    {
     "data": {
      "text/plain": [
       "{'C': 1.0, 'penalty': 'l1'}"
      ]
     },
     "execution_count": 70,
     "metadata": {},
     "output_type": "execute_result"
    }
   ],
   "source": [
    "grid_cv.best_params_"
   ]
  },
  {
   "cell_type": "code",
   "execution_count": null,
   "metadata": {},
   "outputs": [],
   "source": [
    "print(f'best score:{grid_cv.best_score_:.3f}')\n",
    "print(f'best parameters:{grid_cv.best_params_}')"
   ]
  },
  {
   "cell_type": "code",
   "execution_count": 72,
   "metadata": {},
   "outputs": [],
   "source": [
    "clf = grid_cv.best_estimator_"
   ]
  },
  {
   "cell_type": "code",
   "execution_count": 73,
   "metadata": {},
   "outputs": [
    {
     "data": {
      "text/plain": [
       "array([0, 0, 0, 1, 0, 1, 0, 0, 0, 1, 0, 1, 0, 1, 1, 1, 1, 0, 1, 1, 1, 0,\n",
       "       0, 1, 1, 1, 1, 0, 0, 1])"
      ]
     },
     "execution_count": 73,
     "metadata": {},
     "output_type": "execute_result"
    }
   ],
   "source": [
    "clf.predict(test_data)"
   ]
  },
  {
   "cell_type": "code",
   "execution_count": 75,
   "metadata": {},
   "outputs": [
    {
     "data": {
      "text/plain": [
       "array([0.91428571, 0.97142857, 0.97142857, 0.97142857, 0.98571429,\n",
       "       0.97142857, 0.98571429, 0.98571429])"
      ]
     },
     "execution_count": 75,
     "metadata": {},
     "output_type": "execute_result"
    }
   ],
   "source": [
    "grid_cv.cv_results_['mean_test_score']"
   ]
  },
  {
   "cell_type": "markdown",
   "metadata": {},
   "source": [
    "[back to outline](#outline)"
   ]
  },
  {
   "cell_type": "markdown",
   "metadata": {},
   "source": [
    "### Text classification <a name = 'text'></a>"
   ]
  },
  {
   "cell_type": "markdown",
   "metadata": {},
   "source": [
    "**Data loading**"
   ]
  },
  {
   "cell_type": "code",
   "execution_count": 76,
   "metadata": {},
   "outputs": [],
   "source": [
    "train_data = datasets.fetch_20newsgroups(subset = 'train')\n",
    "test_data = datasets.fetch_20newsgroups(subset = 'test')"
   ]
  },
  {
   "cell_type": "code",
   "execution_count": 77,
   "metadata": {},
   "outputs": [
    {
     "data": {
      "text/plain": [
       "['alt.atheism',\n",
       " 'comp.graphics',\n",
       " 'comp.os.ms-windows.misc',\n",
       " 'comp.sys.ibm.pc.hardware',\n",
       " 'comp.sys.mac.hardware',\n",
       " 'comp.windows.x',\n",
       " 'misc.forsale',\n",
       " 'rec.autos',\n",
       " 'rec.motorcycles',\n",
       " 'rec.sport.baseball',\n",
       " 'rec.sport.hockey',\n",
       " 'sci.crypt',\n",
       " 'sci.electronics',\n",
       " 'sci.med',\n",
       " 'sci.space',\n",
       " 'soc.religion.christian',\n",
       " 'talk.politics.guns',\n",
       " 'talk.politics.mideast',\n",
       " 'talk.politics.misc',\n",
       " 'talk.religion.misc']"
      ]
     },
     "execution_count": 77,
     "metadata": {},
     "output_type": "execute_result"
    }
   ],
   "source": [
    "test_data.target_names"
   ]
  },
  {
   "cell_type": "code",
   "execution_count": 78,
   "metadata": {},
   "outputs": [
    {
     "name": "stdout",
     "output_type": "stream",
     "text": [
      "From: irwin@cmptrc.lonestar.org (Irwin Arnstein)\n",
      "Subject: Re: Recommendation on Duc\n",
      "Summary: What's it worth?\n",
      "Distribution: usa\n",
      "Expires: Sat, 1 May 1993 05:00:00 GMT\n",
      "Organization: CompuTrac Inc., Richardson TX\n",
      "Keywords: Ducati, GTS, How much? \n",
      "Lines: 13\n",
      "\n",
      "I have a line on a Ducati 900GTS 1978 model with 17k on the clock.  Runs\n",
      "very well, paint is the bronze/brown/orange faded out, leaks a bit of oil\n",
      "and pops out of 1st with hard accel.  The shop will fix trans and oil \n",
      "leak.  They sold the bike to the 1 and only owner.  They want $3495, and\n",
      "I am thinking more like $3K.  Any opinions out there?  Please email me.\n",
      "Thanks.  It would be a nice stable mate to the Beemer.  Then I'll get\n",
      "a jap bike and call myself Axis Motors!\n",
      "\n",
      "-- \n",
      "-----------------------------------------------------------------------\n",
      "\"Tuba\" (Irwin)      \"I honk therefore I am\"     CompuTrac-Richardson,Tx\n",
      "irwin@cmptrc.lonestar.org    DoD #0826          (R75/6)\n",
      "-----------------------------------------------------------------------\n",
      "\n"
     ]
    }
   ],
   "source": [
    "print(train_data.data[10])"
   ]
  },
  {
   "cell_type": "code",
   "execution_count": 79,
   "metadata": {},
   "outputs": [
    {
     "name": "stdout",
     "output_type": "stream",
     "text": [
      "rec.motorcycles\n"
     ]
    }
   ],
   "source": [
    "print(train_data.target_names[train_data.target[10]])"
   ]
  },
  {
   "cell_type": "markdown",
   "metadata": {},
   "source": [
    "**Data Processing**"
   ]
  },
  {
   "cell_type": "code",
   "execution_count": 80,
   "metadata": {},
   "outputs": [],
   "source": [
    "#option 1: count vectorizer\n",
    "vectorizer = CountVectorizer(min_df = 100, stop_words={'english'})\n",
    "\n",
    "vectorized_train_data = vectorizer.fit_transform(train_data.data)\n",
    "vectorized_test_data = vectorizer.transform(test_data.data)"
   ]
  },
  {
   "cell_type": "code",
   "execution_count": 81,
   "metadata": {},
   "outputs": [
    {
     "data": {
      "text/plain": [
       "2429"
      ]
     },
     "execution_count": 81,
     "metadata": {},
     "output_type": "execute_result"
    }
   ],
   "source": [
    "len(vectorizer.vocabulary_)"
   ]
  },
  {
   "cell_type": "code",
   "execution_count": 82,
   "metadata": {},
   "outputs": [],
   "source": [
    "#option 2: TFIDF vectorizer\n",
    "tfidf_vectorizer = TfidfVectorizer(min_df = 10, max_df = 1000, stop_words={'english'})\n",
    "\n",
    "tfidf_vectorized_train_data = tfidf_vectorizer.fit_transform(train_data.data)\n",
    "tfidf_vectorized_test_data = tfidf_vectorizer.transform(test_data.data)"
   ]
  },
  {
   "cell_type": "code",
   "execution_count": 83,
   "metadata": {},
   "outputs": [
    {
     "data": {
      "text/plain": [
       "15379"
      ]
     },
     "execution_count": 83,
     "metadata": {},
     "output_type": "execute_result"
    }
   ],
   "source": [
    "len(tfidf_vectorizer.vocabulary_)"
   ]
  },
  {
   "cell_type": "markdown",
   "metadata": {},
   "source": [
    "**Modeling**"
   ]
  },
  {
   "cell_type": "code",
   "execution_count": 84,
   "metadata": {},
   "outputs": [
    {
     "data": {
      "text/plain": [
       "LogisticRegression(C=1.0, class_weight=None, dual=False, fit_intercept=True,\n",
       "          intercept_scaling=1, max_iter=100, multi_class='ovr', n_jobs=1,\n",
       "          penalty='l2', random_state=None, solver='liblinear', tol=0.0001,\n",
       "          verbose=0, warm_start=False)"
      ]
     },
     "execution_count": 84,
     "metadata": {},
     "output_type": "execute_result"
    }
   ],
   "source": [
    "#count vectorizer is used\n",
    "model = linear_model.LogisticRegression()\n",
    "model.fit(vectorized_train_data, train_data.target)"
   ]
  },
  {
   "cell_type": "code",
   "execution_count": 85,
   "metadata": {},
   "outputs": [],
   "source": [
    "train_preds = model.predict(vectorized_train_data)\n",
    "test_preds = model.predict(vectorized_test_data)"
   ]
  },
  {
   "cell_type": "code",
   "execution_count": 86,
   "metadata": {},
   "outputs": [
    {
     "name": "stdout",
     "output_type": "stream",
     "text": [
      "train accuracy: 0.998\n",
      "test accuracy: 0.696\n"
     ]
    }
   ],
   "source": [
    "print(f'train accuracy: {metrics.accuracy_score(train_data.target, train_preds):.3f}')\n",
    "print(f'test accuracy: {metrics.accuracy_score(test_data.target, test_preds):.3f}')"
   ]
  },
  {
   "cell_type": "code",
   "execution_count": 87,
   "metadata": {},
   "outputs": [],
   "source": [
    "test_obj = 'I understand the advantages of the Windows operating system \\\n",
    "despite the fact that I use a Mac system'\n",
    "vectorized_test_obj = vectorizer.transform([test_obj])"
   ]
  },
  {
   "cell_type": "code",
   "execution_count": 88,
   "metadata": {},
   "outputs": [
    {
     "name": "stdout",
     "output_type": "stream",
     "text": [
      "  (0, 669)\t1\n",
      "  (0, 844)\t1\n",
      "  (0, 1314)\t1\n",
      "  (0, 1522)\t1\n",
      "  (0, 1546)\t1\n",
      "  (0, 2117)\t2\n",
      "  (0, 2159)\t1\n",
      "  (0, 2160)\t3\n",
      "  (0, 2257)\t1\n",
      "  (0, 2280)\t1\n",
      "  (0, 2381)\t1\n"
     ]
    }
   ],
   "source": [
    "print(vectorized_test_obj)"
   ]
  },
  {
   "cell_type": "code",
   "execution_count": 89,
   "metadata": {},
   "outputs": [
    {
     "name": "stdout",
     "output_type": "stream",
     "text": [
      "4\n"
     ]
    }
   ],
   "source": [
    "print(model.predict(vectorized_test_obj)[0])"
   ]
  },
  {
   "cell_type": "code",
   "execution_count": 90,
   "metadata": {},
   "outputs": [
    {
     "name": "stdout",
     "output_type": "stream",
     "text": [
      "comp.sys.mac.hardware\n"
     ]
    }
   ],
   "source": [
    "print(test_data.target_names[model.predict(vectorized_test_obj)[0]])"
   ]
  }
 ],
 "metadata": {
  "kernelspec": {
   "display_name": "Python 3",
   "language": "python",
   "name": "python3"
  },
  "language_info": {
   "codemirror_mode": {
    "name": "ipython",
    "version": 3
   },
   "file_extension": ".py",
   "mimetype": "text/x-python",
   "name": "python",
   "nbconvert_exporter": "python",
   "pygments_lexer": "ipython3",
   "version": "3.6.8"
  }
 },
 "nbformat": 4,
 "nbformat_minor": 2
}
